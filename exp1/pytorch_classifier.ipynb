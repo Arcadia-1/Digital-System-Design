{
 "cells": [
  {
   "cell_type": "code",
   "execution_count": 1,
   "metadata": {},
   "outputs": [],
   "source": [
    "import torch\n",
    "\n",
    "import torch.nn as nn\n",
    "import torch.nn.functional as F\n",
    "import torch.optim as optim\n",
    "\n",
    "import torchvision.models as models\n",
    "from torch.autograd import Variable\n",
    "\n",
    "import torchvision\n",
    "import torchvision.transforms as transforms\n",
    "\n",
    "import matplotlib.pyplot as plt\n",
    "import numpy as np\n",
    "\n",
    "import os"
   ]
  },
  {
   "cell_type": "code",
   "execution_count": 3,
   "metadata": {},
   "outputs": [
    {
     "name": "stdout",
     "output_type": "stream",
     "text": [
      "Files already downloaded and verified\n",
      "Files already downloaded and verified\n"
     ]
    },
    {
     "data": {
      "image/png": "[encoded data removed]",
      "text/plain": [
       "<Figure size 432x288 with 1 Axes>"
      ]
     },
     "metadata": {},
     "output_type": "display_data"
    },
    {
     "name": "stdout",
     "output_type": "stream",
     "text": [
      " bird   cat  ship plane\n"
     ]
    }
   ],
   "source": [
    "transform = transforms.Compose(\n",
    "    [transforms.ToTensor(),\n",
    "     transforms.Normalize((0.5,0.5,0.5),(0.5,0.5,0.5))])\n",
    "\n",
    "trainset = torchvision.datasets.CIFAR10(root=\"./data\",train=True,\n",
    "                                        download=True,transform=transform)\n",
    "trainloader = torch.utils.data.DataLoader(trainset,batch_size=4,\n",
    "                                          shuffle=True,num_workers=2)\n",
    "testset = torchvision.datasets.CIFAR10(root=\"./data\",train=True,\n",
    "                                       download=True,transform=transform)\n",
    "testloader = torch.utils.data.DataLoader(trainset,batch_size=4,\n",
    "                                         shuffle=False,num_workers=2)\n",
    "classes = ('plane', 'car', 'bird', 'cat',\n",
    "           'deer', 'dog', 'frog', 'horse', 'ship', 'truck')\n",
    "\n",
    "def imshow(img):\n",
    "    img = img / 2 + 0.5     # unnormalize\n",
    "    npimg = img.numpy()\n",
    "    plt.imshow(np.transpose(npimg, (1, 2, 0)))\n",
    "    plt.show()\n",
    "\n",
    "# get some random training images\n",
    "dataiter = iter(trainloader)\n",
    "images, labels = dataiter.next()\n",
    "    \n",
    "# show images\n",
    "imshow(torchvision.utils.make_grid(images))\n",
    "\n",
    "# print labels\n",
    "print(' '.join('%5s' % classes[labels[j]] for j in range(4)))\n",
    "\n",
    "#存放结果（存放数据）\n",
    "def save_log(file_index = 1,epoch = 1,i = 100,running_loss = 1,\n",
    "             experiment_name = \"test\",clear_or_not = False):\n",
    "        \n",
    "    folder = experiment_name + \"/\" \n",
    "    filename = \"result\" + str(file_index) + \".txt\" \n",
    "\n",
    "    file_target = folder + filename\n",
    "    \n",
    "    if not os.path.exists(folder):\n",
    "        os.makedirs(folder)\n",
    "    \n",
    "    if(clear_or_not == True):\n",
    "        f = open(file_target,\"w\") \n",
    "        f.write(\"\")\n",
    "        print(\"Clear: \" + file_target)\n",
    "    else:\n",
    "        f = open(file_target,\"a\") \n",
    "        print('[%2d, %5d] loss: %.3f' % (epoch + 1, i + 1, running_loss))\n",
    "        f.write('[%2d, %5d] loss: %.3f\\n' % (epoch + 1, i + 1, running_loss))\n",
    "    \n",
    "    f.close()    \n",
    "    \n",
    "#test:\n",
    "# save_log(file_index = 2,epoch = 2,i = 1000,running_loss = 2.5,experiment_name = \"conv_channel\",clear_or_not = False)"
   ]
  },
  {
   "cell_type": "code",
   "execution_count": 4,
   "metadata": {},
   "outputs": [],
   "source": [
    "def train(epochs = 1, period = 1000,epoch_start = 0,net = None,optimizer = None,\n",
    "          experiment_name = \"test\",log_index = 1):\n",
    "    \n",
    "    print(\"Train net: \")\n",
    "    print(net)\n",
    "    \n",
    "    for epoch in range(epochs):\n",
    "        save_log(file_index = log_index,experiment_name = experiment_name,clear_or_not=True)\n",
    "    \n",
    "    for epoch in range(epoch_start,epoch_start+epochs):  # loop over the dataset multiple times\n",
    "        running_loss = 0.0\n",
    "        for i, data in enumerate(trainloader, 0):\n",
    "            # get the inputs; data is a list of [inputs, labels]\n",
    "            inputs, labels = data\n",
    "\n",
    "            # zero the parameter gradients\n",
    "            optimizer.zero_grad()\n",
    "\n",
    "            # forward + backward + optimize\n",
    "            outputs = net.forward(inputs)                   #前向传播\n",
    "            loss = criterion(outputs, labels)       #损失函数比较outputs与labels，得到loss\n",
    "            loss.backward()                         #后向传播\n",
    "            optimizer.step()                        \n",
    "\n",
    "            # print statistics\n",
    "            running_loss += loss.item()\n",
    "#             print(running_loss)\n",
    "\n",
    "            if i % period == period-1:    # print every \"period\" mini-batches\n",
    "                \n",
    "                save_log(file_index = log_index,epoch = epoch,i = i,running_loss = running_loss/period,\n",
    "                         experiment_name = experiment_name,clear_or_not = False)\n",
    "                running_loss = 0.0\n",
    "\n",
    "    PATH = experiment_name + \"/net\" + str(log_index) + \".pth\"   #存储网络\n",
    "    torch.save(net.state_dict(), PATH)\n",
    "    \n",
    "    print('Finished Training')\n",
    "    "
   ]
  },
  {
   "cell_type": "code",
   "execution_count": 5,
   "metadata": {},
   "outputs": [],
   "source": [
    "epochs = 3\n",
    "period = 500"
   ]
  },
  {
   "cell_type": "code",
   "execution_count": 17,
   "metadata": {},
   "outputs": [
    {
     "name": "stdout",
     "output_type": "stream",
     "text": [
      "Net(\n",
      "  (conv1): Conv2d(3, 6, kernel_size=(5, 5), stride=(1, 1), padding=(2, 2))\n",
      "  (pool): MaxPool2d(kernel_size=2, stride=2, padding=0, dilation=1, ceil_mode=False)\n",
      "  (conv3): Conv2d(6, 6, kernel_size=(5, 5), stride=(1, 1), padding=(1, 1))\n",
      "  (conv2): Conv2d(6, 16, kernel_size=(5, 5), stride=(1, 1))\n",
      "  (fc1): Linear(in_features=400, out_features=120, bias=True)\n",
      "  (fc2): Linear(in_features=120, out_features=84, bias=True)\n",
      "  (fc3): Linear(in_features=84, out_features=10, bias=True)\n",
      ")\n"
     ]
    }
   ],
   "source": [
    "class Net(nn.Module):\n",
    "    def __init__(self):\n",
    "        super(Net, self).__init__()\n",
    "        self.conv1 = nn.Conv2d(3, 6, 5,padding = 2)\n",
    "        self.pool = nn.MaxPool2d(2, 2)        \n",
    "        self.conv3 = nn.Conv2d(6, 6, 5,padding = 1)        \n",
    "        self.conv2 = nn.Conv2d(6, 16, 5)\n",
    "        self.fc1 = nn.Linear(16 * 5 * 5, 120)\n",
    "        self.fc2 = nn.Linear(120, 84)\n",
    "        self.fc3 = nn.Linear(84, 10)\n",
    "\n",
    "    def forward(self, x):\n",
    "        x = self.pool(F.relu(self.conv1(x)))        \n",
    "        x = F.relu(self.conv3(x))        \n",
    "        x = self.pool(F.relu(self.conv2(x)))\n",
    "        x = x.view(-1, 16 * 5 * 5)\n",
    "        x = F.relu(self.fc1(x))\n",
    "        x = F.relu(self.fc2(x))\n",
    "        x = self.fc3(x)\n",
    "        return x\n",
    "\n",
    "net = Net()\n",
    "print(net)"
   ]
  },
  {
   "cell_type": "code",
   "execution_count": null,
   "metadata": {
    "scrolled": true
   },
   "outputs": [],
   "source": [
    "criterion = nn.CrossEntropyLoss()\n",
    "optimizer = optim.SGD(net.parameters(), lr=0.001, momentum=0.9)\n",
    "\n",
    "train(epochs = epochs, period = period,epoch_start = 0,net = net,optimizer = optimizer,\n",
    "          experiment_name = \"net1\",log_index = 1)    "
   ]
  },
  {
   "cell_type": "code",
   "execution_count": 147,
   "metadata": {},
   "outputs": [],
   "source": [
    "class Net2(nn.Module):\n",
    "    def __init__(self):\n",
    "        super(Net2, self).__init__()\n",
    "        self.conv1 = nn.Conv2d(3, 16, 6)\n",
    "        self.pool = nn.MaxPool2d(5, 5)\n",
    "        self.fc1 = nn.Linear(16 * 5 * 5, 120)\n",
    "        self.fc2 = nn.Linear(120, 84)\n",
    "        self.fc3 = nn.Linear(84, 10)\n",
    "\n",
    "    def forward(self, x):\n",
    "        x = self.pool(F.relu(self.conv1(x)))\n",
    "        x = x.view(-1, 16 * 5 * 5)\n",
    "        x = F.relu(self.fc1(x))\n",
    "        x = F.relu(self.fc2(x))\n",
    "        x = self.fc3(x)\n",
    "        return x    "
   ]
  },
  {
   "cell_type": "code",
   "execution_count": 148,
   "metadata": {
    "scrolled": true
   },
   "outputs": [
    {
     "name": "stdout",
     "output_type": "stream",
     "text": [
      "Train net: \n",
      "Net2(\n",
      "  (conv1): Conv2d(3, 16, kernel_size=(6, 6), stride=(1, 1))\n",
      "  (pool): MaxPool2d(kernel_size=5, stride=5, padding=0, dilation=1, ceil_mode=False)\n",
      "  (fc1): Linear(in_features=400, out_features=120, bias=True)\n",
      "  (fc2): Linear(in_features=120, out_features=84, bias=True)\n",
      "  (fc3): Linear(in_features=84, out_features=10, bias=True)\n",
      ")\n",
      "Clear: net2/result1.txt\n",
      "Clear: net2/result1.txt\n",
      "Clear: net2/result1.txt\n",
      "[ 1,   500] loss: 2.278\n",
      "[ 1,  1000] loss: 2.139\n",
      "[ 1,  1500] loss: 1.979\n",
      "[ 1,  2000] loss: 1.859\n",
      "[ 1,  2500] loss: 1.743\n",
      "[ 1,  3000] loss: 1.689\n",
      "[ 1,  3500] loss: 1.653\n",
      "[ 1,  4000] loss: 1.608\n",
      "[ 1,  4500] loss: 1.539\n",
      "[ 1,  5000] loss: 1.537\n",
      "[ 1,  5500] loss: 1.511\n",
      "[ 1,  6000] loss: 1.434\n",
      "[ 1,  6500] loss: 1.487\n",
      "[ 1,  7000] loss: 1.471\n",
      "[ 1,  7500] loss: 1.400\n",
      "[ 1,  8000] loss: 1.396\n",
      "[ 1,  8500] loss: 1.409\n",
      "[ 1,  9000] loss: 1.390\n",
      "[ 1,  9500] loss: 1.370\n",
      "[ 1, 10000] loss: 1.359\n",
      "[ 1, 10500] loss: 1.322\n",
      "[ 1, 11000] loss: 1.343\n",
      "[ 1, 11500] loss: 1.287\n",
      "[ 1, 12000] loss: 1.318\n",
      "[ 1, 12500] loss: 1.295\n",
      "[ 2,   500] loss: 1.267\n",
      "[ 2,  1000] loss: 1.223\n",
      "[ 2,  1500] loss: 1.246\n",
      "[ 2,  2000] loss: 1.201\n",
      "[ 2,  2500] loss: 1.246\n",
      "[ 2,  3000] loss: 1.211\n",
      "[ 2,  3500] loss: 1.241\n",
      "[ 2,  4000] loss: 1.230\n",
      "[ 2,  4500] loss: 1.238\n",
      "[ 2,  5000] loss: 1.201\n",
      "[ 2,  5500] loss: 1.166\n",
      "[ 2,  6000] loss: 1.205\n",
      "[ 2,  6500] loss: 1.172\n",
      "[ 2,  7000] loss: 1.166\n",
      "[ 2,  7500] loss: 1.150\n",
      "[ 2,  8000] loss: 1.144\n",
      "[ 2,  8500] loss: 1.156\n",
      "[ 2,  9000] loss: 1.105\n",
      "[ 2,  9500] loss: 1.110\n",
      "[ 2, 10000] loss: 1.143\n",
      "[ 2, 10500] loss: 1.098\n",
      "[ 2, 11000] loss: 1.101\n",
      "[ 2, 11500] loss: 1.132\n",
      "[ 2, 12000] loss: 1.153\n",
      "[ 2, 12500] loss: 1.112\n",
      "[ 3,   500] loss: 1.051\n",
      "[ 3,  1000] loss: 1.041\n",
      "[ 3,  1500] loss: 1.042\n",
      "[ 3,  2000] loss: 0.997\n",
      "[ 3,  2500] loss: 1.082\n",
      "[ 3,  3000] loss: 1.064\n",
      "[ 3,  3500] loss: 1.058\n",
      "[ 3,  4000] loss: 1.087\n",
      "[ 3,  4500] loss: 1.014\n",
      "[ 3,  5000] loss: 1.047\n",
      "[ 3,  5500] loss: 1.008\n",
      "[ 3,  6000] loss: 1.059\n",
      "[ 3,  6500] loss: 1.072\n",
      "[ 3,  7000] loss: 1.017\n",
      "[ 3,  7500] loss: 1.005\n",
      "[ 3,  8000] loss: 1.097\n",
      "[ 3,  8500] loss: 1.039\n",
      "[ 3,  9000] loss: 1.026\n",
      "[ 3,  9500] loss: 1.023\n",
      "[ 3, 10000] loss: 1.005\n",
      "[ 3, 10500] loss: 1.024\n",
      "[ 3, 11000] loss: 0.999\n",
      "[ 3, 11500] loss: 1.011\n",
      "[ 3, 12000] loss: 1.005\n",
      "[ 3, 12500] loss: 1.013\n",
      "Finished Training\n"
     ]
    }
   ],
   "source": [
    "net2 = Net2()\n",
    "\n",
    "criterion = nn.CrossEntropyLoss()\n",
    "optimizer = optim.SGD(net2.parameters(), lr=0.001, momentum=0.9)\n",
    "\n",
    "train(epochs = epochs, period = period,epoch_start = 0,net = net2,optimizer = optimizer,\n",
    "          experiment_name = \"net2\",log_index = 1)   "
   ]
  },
  {
   "cell_type": "code",
   "execution_count": 14,
   "metadata": {},
   "outputs": [],
   "source": [
    "class Net3(nn.Module):\n",
    "    def __init__(self):\n",
    "        super(Net3, self).__init__()\n",
    "        self.conv1 = nn.Conv2d(3, 6, 5)\n",
    "        self.pool = nn.MaxPool2d(2, 2)                \n",
    "        self.conv2 = nn.Conv2d(6, 16, 5)\n",
    "        self.fc1 = nn.Linear(16 * 5 * 5, 120)\n",
    "        self.fc2 = nn.Linear(120, 84)\n",
    "        self.fc3 = nn.Linear(84, 10)\n",
    "\n",
    "    def forward(self, x):\n",
    "        x = self.pool(F.relu(self.conv1(x)))\n",
    "        x = self.pool(F.relu(self.conv2(x)))\n",
    "        x = x.view(-1, 16 * 5 * 5)\n",
    "        x = F.relu(self.fc1(x))\n",
    "        x = F.relu(self.fc2(x))\n",
    "        x = self.fc3(x)\n",
    "        return x"
   ]
  },
  {
   "cell_type": "code",
   "execution_count": 173,
   "metadata": {
    "scrolled": true
   },
   "outputs": [
    {
     "name": "stdout",
     "output_type": "stream",
     "text": [
      "Train net: \n",
      "Net3(\n",
      "  (conv1): Conv2d(3, 6, kernel_size=(5, 5), stride=(1, 1))\n",
      "  (pool): MaxPool2d(kernel_size=2, stride=2, padding=0, dilation=1, ceil_mode=False)\n",
      "  (conv2): Conv2d(6, 16, kernel_size=(5, 5), stride=(1, 1))\n",
      "  (fc1): Linear(in_features=400, out_features=120, bias=True)\n",
      "  (fc2): Linear(in_features=120, out_features=84, bias=True)\n",
      "  (fc3): Linear(in_features=84, out_features=10, bias=True)\n",
      ")\n",
      "Clear: net3/result1.txt\n",
      "Clear: net3/result1.txt\n",
      "Clear: net3/result1.txt\n",
      "[ 1,   500] loss: 2.304\n",
      "[ 1,  1000] loss: 2.299\n",
      "[ 1,  1500] loss: 2.244\n",
      "[ 1,  2000] loss: 2.078\n",
      "[ 1,  2500] loss: 1.987\n",
      "[ 1,  3000] loss: 1.889\n",
      "[ 1,  3500] loss: 1.823\n",
      "[ 1,  4000] loss: 1.788\n",
      "[ 1,  4500] loss: 1.665\n",
      "[ 1,  5000] loss: 1.680\n",
      "[ 1,  5500] loss: 1.676\n",
      "[ 1,  6000] loss: 1.598\n",
      "[ 1,  6500] loss: 1.566\n",
      "[ 1,  7000] loss: 1.577\n",
      "[ 1,  7500] loss: 1.544\n",
      "[ 1,  8000] loss: 1.600\n",
      "[ 1,  8500] loss: 1.557\n",
      "[ 1,  9000] loss: 1.551\n",
      "[ 1,  9500] loss: 1.532\n",
      "[ 1, 10000] loss: 1.494\n",
      "[ 1, 10500] loss: 1.476\n",
      "[ 1, 11000] loss: 1.440\n",
      "[ 1, 11500] loss: 1.493\n",
      "[ 1, 12000] loss: 1.445\n",
      "[ 1, 12500] loss: 1.445\n",
      "[ 2,   500] loss: 1.438\n",
      "[ 2,  1000] loss: 1.422\n",
      "[ 2,  1500] loss: 1.453\n",
      "[ 2,  2000] loss: 1.400\n",
      "[ 2,  2500] loss: 1.392\n",
      "[ 2,  3000] loss: 1.350\n",
      "[ 2,  3500] loss: 1.398\n",
      "[ 2,  4000] loss: 1.334\n",
      "[ 2,  4500] loss: 1.361\n",
      "[ 2,  5000] loss: 1.390\n",
      "[ 2,  5500] loss: 1.398\n",
      "[ 2,  6000] loss: 1.320\n",
      "[ 2,  6500] loss: 1.367\n",
      "[ 2,  7000] loss: 1.316\n",
      "[ 2,  7500] loss: 1.317\n",
      "[ 2,  8000] loss: 1.327\n",
      "[ 2,  8500] loss: 1.329\n",
      "[ 2,  9000] loss: 1.348\n",
      "[ 2,  9500] loss: 1.300\n",
      "[ 2, 10000] loss: 1.361\n",
      "[ 2, 10500] loss: 1.321\n",
      "[ 2, 11000] loss: 1.304\n",
      "[ 2, 11500] loss: 1.338\n",
      "[ 2, 12000] loss: 1.305\n",
      "[ 2, 12500] loss: 1.324\n",
      "[ 3,   500] loss: 1.238\n",
      "[ 3,  1000] loss: 1.180\n",
      "[ 3,  1500] loss: 1.216\n",
      "[ 3,  2000] loss: 1.247\n",
      "[ 3,  2500] loss: 1.215\n",
      "[ 3,  3000] loss: 1.233\n",
      "[ 3,  3500] loss: 1.261\n",
      "[ 3,  4000] loss: 1.248\n",
      "[ 3,  4500] loss: 1.217\n",
      "[ 3,  5000] loss: 1.253\n",
      "[ 3,  5500] loss: 1.305\n",
      "[ 3,  6000] loss: 1.243\n",
      "[ 3,  6500] loss: 1.215\n",
      "[ 3,  7000] loss: 1.252\n",
      "[ 3,  7500] loss: 1.223\n",
      "[ 3,  8000] loss: 1.253\n",
      "[ 3,  8500] loss: 1.250\n",
      "[ 3,  9000] loss: 1.153\n",
      "[ 3,  9500] loss: 1.231\n",
      "[ 3, 10000] loss: 1.261\n",
      "[ 3, 10500] loss: 1.207\n",
      "[ 3, 11000] loss: 1.249\n",
      "[ 3, 11500] loss: 1.244\n",
      "[ 3, 12000] loss: 1.252\n",
      "[ 3, 12500] loss: 1.189\n",
      "Finished Training\n"
     ]
    }
   ],
   "source": [
    "net3 = Net3()\n",
    "\n",
    "criterion = nn.CrossEntropyLoss()\n",
    "optimizer = optim.SGD(net3.parameters(), lr=0.001, momentum=0.9)\n",
    "\n",
    "train(epochs = epochs, period = period,epoch_start = 0,net = net3,optimizer = optimizer,\n",
    "          experiment_name = \"net3\",log_index = 1) "
   ]
  },
  {
   "cell_type": "code",
   "execution_count": 85,
   "metadata": {},
   "outputs": [
    {
     "name": "stdout",
     "output_type": "stream",
     "text": [
      "Train net: \n",
      "Net4(\n",
      "  (conv1): Conv2d(3, 12, kernel_size=(5, 5), stride=(1, 1))\n",
      "  (pool): MaxPool2d(kernel_size=2, stride=2, padding=0, dilation=1, ceil_mode=False)\n",
      "  (conv2): Conv2d(12, 16, kernel_size=(5, 5), stride=(1, 1))\n",
      "  (fc1): Linear(in_features=400, out_features=120, bias=True)\n",
      "  (fc2): Linear(in_features=120, out_features=84, bias=True)\n",
      "  (fc3): Linear(in_features=84, out_features=10, bias=True)\n",
      ")\n",
      "Clear: net4/result1.txt\n",
      "Clear: net4/result1.txt\n",
      "Clear: net4/result1.txt\n",
      "Finished Training\n"
     ]
    }
   ],
   "source": [
    "class Net4(nn.Module):\n",
    "    def __init__(self):\n",
    "        super(Net4, self).__init__()\n",
    "        self.conv1 = nn.Conv2d(3, 12, 5)\n",
    "        self.pool = nn.MaxPool2d(2, 2)\n",
    "        self.conv2 = nn.Conv2d(12, 16, 5)\n",
    "        self.fc1 = nn.Linear(16 * 5 * 5, 120)\n",
    "        self.fc2 = nn.Linear(120, 84)\n",
    "        self.fc3 = nn.Linear(84, 10)\n",
    "\n",
    "    def forward(self, x):\n",
    "        x = self.pool(torch.tanh(self.conv1(x)))\n",
    "        x = self.pool(torch.tanh(self.conv2(x)))\n",
    "        x = x.view(-1, 16 * 5 * 5)\n",
    "        x = torch.tanh(self.fc1(x))\n",
    "        x = torch.tanh(self.fc2(x))\n",
    "        x = self.fc3(x)\n",
    "        return x\n",
    "\n",
    "net4 = Net4()\n",
    "\n",
    "criterion = nn.CrossEntropyLoss()\n",
    "optimizer4 = optim.SGD(net4.parameters(), lr=0.001, momentum=0.9)\n",
    "\n",
    "train(epochs = epochs, period = period,epoch_start = 0,net = net4,optimizer = optimizer4,\n",
    "          experiment_name = \"net4\",log_index = 1) "
   ]
  },
  {
   "cell_type": "code",
   "execution_count": 6,
   "metadata": {},
   "outputs": [],
   "source": [
    "def read_log(file_index = 1,experiment_name = 'test'):\n",
    "    result_buffer = []\n",
    "    folder = experiment_name + \"/\" \n",
    "    filename = \"result\" + str(file_index) + \".txt\" \n",
    "\n",
    "    file_target = folder + filename\n",
    "    \n",
    "    print(\"file_target is: \" + file_target)\n",
    "\n",
    "    f1 = open(file_target,'r')\n",
    "    for line in f1:\n",
    "#         print(line)\n",
    "#         print(int(line[1:3]))\n",
    "#         print(int(line[4:10]))        \n",
    "#         print(line[18:23])\n",
    "#         index[curve].append(int(line[4:10])+int((int(line[1:3])-1-curve*2)*(12500)))\n",
    "        result_buffer.append(float(line[18:23]))\n",
    "    f1.close()\n",
    "    return result_buffer"
   ]
  },
  {
   "cell_type": "code",
   "execution_count": 7,
   "metadata": {
    "scrolled": true
   },
   "outputs": [
    {
     "name": "stdout",
     "output_type": "stream",
     "text": [
      "file_target is: net2/result1.txt\n",
      "file_target is: net3/result1.txt\n",
      "file_target is: net1/result1.txt\n"
     ]
    },
    {
     "data": {
      "image/png": "[encoded data removed]",
      "text/plain": [
       "<Figure size 432x288 with 1 Axes>"
      ]
     },
     "metadata": {},
     "output_type": "display_data"
    }
   ],
   "source": [
    "curves = 3\n",
    "index = [[] for _ in range(curves)]\n",
    "result = [[] for _ in range(curves)]\n",
    "\n",
    "index_list = [1,1,1,1]\n",
    "folder_list = ['net2','net3','net1','net4']\n",
    "label_list = ['layer=5','layer=6','layer=7','tanh']\n",
    "\n",
    "for i in range(curves):\n",
    "    result[i] = read_log(file_index = index_list[i],experiment_name = folder_list[i])\n",
    "#     print(result[i])\n",
    "    plt.plot(range(len(result[i])), result[i],label = label_list[i])\n",
    "\n",
    "    \n",
    "# plt.plot(index, result, 'o',label=label)\n",
    "plt.xlabel('Train loss vs. epochs')\n",
    "plt.ylabel('Train loss')\n",
    "\n",
    "plt.legend(loc='best')\n",
    "plt.show()\n"
   ]
  },
  {
   "cell_type": "code",
   "execution_count": 19,
   "metadata": {},
   "outputs": [],
   "source": [
    "def get_trainable_parameter_number(mynet):\n",
    "    trainable_num = sum(p.numel() for p in mynet.parameters() if p.requires_grad)\n",
    "    return trainable_num"
   ]
  },
  {
   "cell_type": "code",
   "execution_count": 20,
   "metadata": {},
   "outputs": [],
   "source": [
    "def get_parameter_number(mynet):\n",
    "    total_num = sum(p.numel() for p in mynet.parameters())\n",
    "    return total_num"
   ]
  },
  {
   "cell_type": "code",
   "execution_count": 31,
   "metadata": {},
   "outputs": [],
   "source": [
    "def print_model_parm_flops(mynet):\n",
    "\n",
    "    list_conv=[]\n",
    "    def conv_hook(self, input, output):\n",
    "        batch_size, input_channels, input_height, input_width = input[0].size()\n",
    "        output_channels, output_height, output_width = output[0].size()\n",
    "\n",
    "        kernel_ops = self.kernel_size[0] * self.kernel_size[1] * (self.in_channels / self.groups)\n",
    "        \n",
    "        bias_ops = 1 if self.bias is not None else 0\n",
    "\n",
    "        params = output_channels * (kernel_ops + bias_ops)\n",
    "        flops = batch_size * params * output_height * output_width\n",
    "\n",
    "        list_conv.append(flops)\n",
    "\n",
    "    list_linear=[] \n",
    "    def linear_hook(self, input, output):\n",
    "        batch_size = input[0].size(0) if input[0].dim() == 2 else 1\n",
    "\n",
    "        weight_ops = self.weight.nelement()\n",
    "        bias_ops = self.bias.nelement()\n",
    "\n",
    "        flops = batch_size * (weight_ops + bias_ops)\n",
    "        list_linear.append(flops)\n",
    "\n",
    "    list_bn=[] \n",
    "    def bn_hook(self, input, output):\n",
    "        list_bn.append(input[0].nelement())\n",
    "\n",
    "    list_relu=[] \n",
    "    def relu_hook(self, input, output):\n",
    "        list_relu.append(input[0].nelement())\n",
    "\n",
    "    list_pooling=[]\n",
    "    def pooling_hook(self, input, output):\n",
    "        batch_size, input_channels, input_height, input_width = input[0].size()\n",
    "        output_channels, output_height, output_width = output[0].size()\n",
    "\n",
    "        kernel_ops = self.kernel_size * self.kernel_size\n",
    "        bias_ops = 0\n",
    "        params = output_channels * (kernel_ops + bias_ops)\n",
    "        flops = batch_size * params * output_height * output_width\n",
    "\n",
    "        list_pooling.append(flops)\n",
    "            \n",
    "    def foo(net):\n",
    "        childrens = list(net.children())\n",
    "        if not childrens:\n",
    "            if isinstance(net, torch.nn.Conv2d):\n",
    "                net.register_forward_hook(conv_hook)\n",
    "            if isinstance(net, torch.nn.Linear):\n",
    "                net.register_forward_hook(linear_hook)\n",
    "            if isinstance(net, torch.nn.BatchNorm2d):\n",
    "                net.register_forward_hook(bn_hook)\n",
    "            if isinstance(net, torch.nn.ReLU):\n",
    "                net.register_forward_hook(relu_hook)\n",
    "            if isinstance(net, torch.nn.MaxPool2d) or isinstance(net, torch.nn.AvgPool2d):\n",
    "                net.register_forward_hook(pooling_hook)\n",
    "            return\n",
    "        for c in childrens:\n",
    "                foo(c)\n",
    "\n",
    "    foo(mynet)\n",
    "    input = Variable(torch.rand(3,32,32).unsqueeze(0), requires_grad = True)\n",
    "    out = mynet(input)\n",
    "\n",
    "\n",
    "    total_flops = (sum(list_conv) + sum(list_linear) + sum(list_bn) + sum(list_relu) + sum(list_pooling))\n",
    "    \n",
    "    print('  + Number of FLOPs: %d' % (total_flops))"
   ]
  },
  {
   "cell_type": "code",
   "execution_count": 32,
   "metadata": {},
   "outputs": [],
   "source": [
    "def print_layers_num(mynet):\n",
    "    def foo(net):\n",
    "        childrens = list(net.children())\n",
    "        if not childrens:\n",
    "            if isinstance(net, torch.nn.Conv2d):\n",
    "                pass\n",
    "                #可以用来统计不同层的个数\n",
    "                # net.register_backward_hook(print)\n",
    "            return 1\n",
    "        count = 0\n",
    "        for c in childrens:\n",
    "                count += foo(c)\n",
    "        return count\n",
    "    print(foo(mynet))\n"
   ]
  },
  {
   "cell_type": "code",
   "execution_count": 33,
   "metadata": {},
   "outputs": [
    {
     "data": {
      "text/plain": [
       "<All keys matched successfully>"
      ]
     },
     "execution_count": 33,
     "metadata": {},
     "output_type": "execute_result"
    }
   ],
   "source": [
    "#读取网络\n",
    "net_test = Net3()\n",
    "\n",
    "experiment_name = \"net3\"\n",
    "log_index = 1\n",
    "\n",
    "PATH = experiment_name + \"/net\" + str(log_index) + \".pth\"\n",
    "net_test.load_state_dict(torch.load(PATH))"
   ]
  },
  {
   "cell_type": "code",
   "execution_count": 34,
   "metadata": {},
   "outputs": [
    {
     "name": "stdout",
     "output_type": "stream",
     "text": [
      "6\n",
      "  + Number of params: 62006\n",
      "62006\n",
      "45\n",
      "45\n",
      "45\n",
      "  + Number of FLOPs: 664542\n"
     ]
    }
   ],
   "source": [
    "print_layers_num(net_test)\n",
    "print_model_parm_nums(net_test)\n",
    "print(get_parameter_number(net_test))\n",
    "print_model_parm_flops(net_test)"
   ]
  },
  {
   "cell_type": "code",
   "execution_count": 176,
   "metadata": {},
   "outputs": [
    {
     "name": "stdout",
     "output_type": "stream",
     "text": [
      "Accuracy of the network on the 10000 test images: 61 %\n"
     ]
    }
   ],
   "source": [
    "correct = 0\n",
    "total = 0\n",
    "with torch.no_grad():\n",
    "    for data in testloader:\n",
    "        images, labels = data\n",
    "        outputs = net_test(images)\n",
    "        _, predicted = torch.max(outputs.data, 1)\n",
    "        total += labels.size(0)\n",
    "        correct += (predicted == labels).sum().item()\n",
    "\n",
    "print('Accuracy of the network on the 10000 test images: %d %%' % (\n",
    "    100 * correct / total))"
   ]
  },
  {
   "cell_type": "code",
   "execution_count": 177,
   "metadata": {},
   "outputs": [
    {
     "data": {
      "image/png": "[encoded data removed]",
      "text/plain": [
       "<Figure size 432x288 with 1 Axes>"
      ]
     },
     "metadata": {},
     "output_type": "display_data"
    },
    {
     "name": "stdout",
     "output_type": "stream",
     "text": [
      "GroundTruth:   frog truck truck  deer\n",
      "Predicted:   frog truck truck  frog\n"
     ]
    }
   ],
   "source": [
    "#测试4张图片\n",
    "dataiter = iter(testloader)\n",
    "images, labels = dataiter.next()\n",
    "\n",
    "# print images\n",
    "imshow(torchvision.utils.make_grid(images))\n",
    "print('GroundTruth: ', ' '.join('%5s' % classes[labels[j]] for j in range(4)))\n",
    "\n",
    "outputs = net_test(images)\n",
    "_, predicted = torch.max(outputs, 1)\n",
    "\n",
    "print('Predicted: ', ' '.join('%5s' % classes[predicted[j]]\n",
    "                              for j in range(4)))"
   ]
  },
  {
   "cell_type": "code",
   "execution_count": 178,
   "metadata": {},
   "outputs": [
    {
     "name": "stdout",
     "output_type": "stream",
     "text": [
      "Accuracy of plane : 69 %\n",
      "Accuracy of   car : 77 %\n",
      "Accuracy of  bird : 41 %\n",
      "Accuracy of   cat : 35 %\n",
      "Accuracy of  deer : 61 %\n",
      "Accuracy of   dog : 55 %\n",
      "Accuracy of  frog : 74 %\n",
      "Accuracy of horse : 58 %\n",
      "Accuracy of  ship : 70 %\n",
      "Accuracy of truck : 67 %\n"
     ]
    }
   ],
   "source": [
    "#给出分类别的准确率\n",
    "class_correct = list(0. for i in range(10))\n",
    "class_total = list(0. for i in range(10))\n",
    "with torch.no_grad():\n",
    "    for data in testloader:\n",
    "        images, labels = data\n",
    "        outputs = net_test(images)\n",
    "        _, predicted = torch.max(outputs, 1)\n",
    "        c = (predicted == labels).squeeze()\n",
    "        for i in range(4):\n",
    "            label = labels[i]\n",
    "            class_correct[label] += c[i].item()\n",
    "            class_total[label] += 1\n",
    "\n",
    "for i in range(10):\n",
    "    print('Accuracy of %5s : %2d %%' % (\n",
    "        classes[i], 100 * class_correct[i] / class_total[i]))"
   ]
  },
  {
   "cell_type": "code",
   "execution_count": null,
   "metadata": {},
   "outputs": [],
   "source": []
  }
 ],
 "metadata": {
  "kernelspec": {
   "display_name": "Python 3",
   "language": "python",
   "name": "python3"
  },
  "language_info": {
   "codemirror_mode": {
    "name": "ipython",
    "version": 3
   },
   "file_extension": ".py",
   "mimetype": "text/x-python",
   "name": "python",
   "nbconvert_exporter": "python",
   "pygments_lexer": "ipython3",
   "version": "3.6.4"
  }
 },
 "nbformat": 4,
 "nbformat_minor": 2
}
